{
 "cells": [
  {
   "cell_type": "markdown",
   "metadata": {
    "colab_type": "text",
    "id": "NGGrt9EYlCqY"
   },
   "source": [
    "<img align=\"left\" src=\"https://lever-client-logos.s3.amazonaws.com/864372b1-534c-480e-acd5-9711f850815c-1524247202159.png\" width=200>\n",
    "<br></br>\n",
    "\n",
    "# Backpropagation Practice\n",
    "\n",
    "## *Data Science Unit 4 Sprint 2 Assignment 2*\n",
    "\n",
    "Implement a 3 input, 4 node hidden-layer, 1 output node Multilayer Perceptron on the following dataset:\n",
    "\n",
    "| x1 | x2 | x3 | y |\n",
    "|----|----|----|---|\n",
    "| 0  | 0  | 1  | 0 |\n",
    "| 0  | 1  | 1  | 1 |\n",
    "| 1  | 0  | 1  | 1 |\n",
    "| 0  | 1  | 0  | 1 |\n",
    "| 1  | 0  | 0  | 1 |\n",
    "| 1  | 1  | 1  | 0 |\n",
    "| 0  | 0  | 0  | 0 |\n",
    "\n",
    "If you look at the data you'll notice that the first two columns behave like an XOR gate while the last column is mostly just noise. Remember that creating an XOR gate was what the perceptron was criticized for not being able to learn. "
   ]
  },
  {
   "cell_type": "code",
   "execution_count": 3,
   "metadata": {},
   "outputs": [],
   "source": [
    "##### Your Code Here #####\n",
    "import numpy as np\n",
    "inputs = np.array([\n",
    "    [0,0,1],\n",
    "    [0,1,1],\n",
    "    [1,0,1],\n",
    "    [0,1,0],\n",
    "    [1,0,0],\n",
    "    [1,1,1],\n",
    "    [0,0,0]\n",
    "])\n",
    "\n",
    "correct_outputs = [[0], [1], [1], [1], [1], [0], [0]]"
   ]
  },
  {
   "cell_type": "code",
   "execution_count": 5,
   "metadata": {},
   "outputs": [],
   "source": [
    "X = inputs\n",
    "y = correct_outputs"
   ]
  },
  {
   "cell_type": "code",
   "execution_count": 6,
   "metadata": {},
   "outputs": [
    {
     "data": {
      "text/plain": "array([[0, 0, 1],\n       [0, 1, 1],\n       [1, 0, 1],\n       [0, 1, 0],\n       [1, 0, 0],\n       [1, 1, 1],\n       [0, 0, 0]])"
     },
     "execution_count": 6,
     "metadata": {},
     "output_type": "execute_result"
    }
   ],
   "source": [
    "X"
   ]
  },
  {
   "cell_type": "code",
   "execution_count": 8,
   "metadata": {},
   "outputs": [
    {
     "data": {
      "text/plain": "[[0], [1], [1], [1], [1], [0], [0]]"
     },
     "execution_count": 8,
     "metadata": {},
     "output_type": "execute_result"
    }
   ],
   "source": [
    "y"
   ]
  },
  {
   "cell_type": "code",
   "execution_count": 1,
   "metadata": {},
   "outputs": [],
   "source": [
    "# Sigmoid activation function\n",
    "\n",
    "def sigmoid(x):\n",
    "    return 1 / (1 + np.exp(-x))\n",
    "\n",
    "def sigmoid_derivative(x):\n",
    "    sx = sigmoid(x)\n",
    "    return sx * (1-sx)\n"
   ]
  },
  {
   "cell_type": "code",
   "execution_count": 9,
   "metadata": {},
   "outputs": [],
   "source": [
    "class NeuralNetwork:\n",
    "    def __init__(self):\n",
    "        # Set up Architecture of Neural Network\n",
    "        self.inputs = 3\n",
    "        self.hiddenNodes = 4\n",
    "        self.outputNodes = 1\n",
    "\n",
    "        # Initial Weights\n",
    "        self.weights1 = np.random.rand(self.inputs, self.hiddenNodes)\n",
    "       \n",
    "        # 3x1 Matrix Array for Hidden to Output\n",
    "        self.weights2 = np.random.rand(self.hiddenNodes, self.outputNodes)\n",
    "        \n",
    "    def sigmoid(self, s):\n",
    "        return 1 / (1+np.exp(-s))\n",
    "    \n",
    "    def sigmoidPrime(self, s):\n",
    "        return s * (1 - s)\n",
    "    \n",
    "    def feed_forward(self, X):\n",
    "        \"\"\"\n",
    "        Calculate the NN inference using feed forward.\n",
    "        aka \"predict\"\n",
    "        \"\"\"\n",
    "        \n",
    "        # Weighted sum of inputs => hidden layer\n",
    "        self.hidden_sum = np.dot(X, self.weights1)\n",
    "        \n",
    "        # Activations of weighted sum\n",
    "        self.activated_hidden = self.sigmoid(self.hidden_sum)\n",
    "        \n",
    "        # Weight sum between hidden and output\n",
    "        self.output_sum = np.dot(self.activated_hidden, self.weights2)\n",
    "        \n",
    "        # Final activation of output\n",
    "        self.activated_output = self.sigmoid(self.output_sum)\n",
    "        \n",
    "        return self.activated_output\n",
    "        \n",
    "    def backward(self, X,y,o):\n",
    "        \"\"\"\n",
    "        Backward propagate through the network\n",
    "        \"\"\"\n",
    "        \n",
    "        # Error in Output\n",
    "        self.o_error = y - o\n",
    "        \n",
    "        # Apply Derivative of Sigmoid to error\n",
    "        # How far off are we in relation to the Sigmoid f(x) of the output\n",
    "        # ^- aka hidden => output\n",
    "        self.o_delta = self.o_error * self.sigmoidPrime(o)\n",
    "        \n",
    "        # z2 error\n",
    "        self.z2_error = self.o_delta.dot(self.weights2.T)\n",
    "        \n",
    "        # How much of that \"far off\" can explained by the input => hidden\n",
    "        self.z2_delta = self.z2_error * self.sigmoidPrime(self.activated_hidden)\n",
    "        \n",
    "        # Descent portion\n",
    "        # Adjustment to first set of weights (input => hidden)\n",
    "        self.weights1 += X.T.dot(self.z2_delta)\n",
    "        # Adjustment to second set of weights (hidden => output)\n",
    "        self.weights2 += self.activated_hidden.T.dot(self.o_delta)\n",
    "        \n",
    "\n",
    "    def train(self, X, y):\n",
    "        o = self.feed_forward(X)\n",
    "        self.backward(X,y,o)"
   ]
  },
  {
   "cell_type": "code",
   "execution_count": 10,
   "metadata": {},
   "outputs": [
    {
     "name": "stdout",
     "output_type": "stream",
     "text": "+---------EPOCH 1---------+\nInput: \n [[0 0 1]\n [0 1 1]\n [1 0 1]\n [0 1 0]\n [1 0 0]\n [1 1 1]\n [0 0 0]]\nActual Output: \n [[0], [1], [1], [1], [1], [0], [0]]\nPredicted Output: \n [[0.81414025]\n [0.85090826]\n [0.85658215]\n [0.81516003]\n [0.82414221]\n [0.8785321 ]\n [0.76578656]]\nLoss: \n 0.3041372656288562\n+---------EPOCH 2---------+\nInput: \n [[0 0 1]\n [0 1 1]\n [1 0 1]\n [0 1 0]\n [1 0 0]\n [1 1 1]\n [0 0 0]]\nActual Output: \n [[0], [1], [1], [1], [1], [0], [0]]\nPredicted Output: \n [[0.74293041]\n [0.7773249 ]\n [0.78319457]\n [0.74464826]\n [0.75319249]\n [0.80593065]\n [0.70252509]]\nLoss: \n 0.27395979564824496\n+---------EPOCH 3---------+\nInput: \n [[0 0 1]\n [0 1 1]\n [1 0 1]\n [0 1 0]\n [1 0 0]\n [1 1 1]\n [0 0 0]]\nActual Output: \n [[0], [1], [1], [1], [1], [0], [0]]\nPredicted Output: \n [[0.66470706]\n [0.69081167]\n [0.69575744]\n [0.6661964 ]\n [0.67304145]\n [0.71470268]\n [0.63639263]]\nLoss: \n 0.2520169545962915\n+---------EPOCH 4---------+\nInput: \n [[0 0 1]\n [0 1 1]\n [1 0 1]\n [0 1 0]\n [1 0 0]\n [1 1 1]\n [0 0 0]]\nActual Output: \n [[0], [1], [1], [1], [1], [0], [0]]\nPredicted Output: \n [[0.60982204]\n [0.62796365]\n [0.63151334]\n [0.61104978]\n [0.6159512 ]\n [0.64562986]\n [0.59122349]]\nLoss: \n 0.2444621814096665\n+---------EPOCH 5---------+\nInput: \n [[0 0 1]\n [0 1 1]\n [1 0 1]\n [0 1 0]\n [1 0 0]\n [1 1 1]\n [0 0 0]]\nActual Output: \n [[0], [1], [1], [1], [1], [0], [0]]\nPredicted Output: \n [[0.58741177]\n [0.6025352 ]\n [0.60506528]\n [0.58928023]\n [0.59289649]\n [0.61718661]\n [0.57307729]]\nLoss: \n 0.24325216803686486\n+---------EPOCH 1000---------+\nInput: \n [[0 0 1]\n [0 1 1]\n [1 0 1]\n [0 1 0]\n [1 0 0]\n [1 1 1]\n [0 0 0]]\nActual Output: \n [[0], [1], [1], [1], [1], [0], [0]]\nPredicted Output: \n [[0.0119205 ]\n [0.9552723 ]\n [0.95830607]\n [0.96731885]\n [0.96101093]\n [0.03868922]\n [0.08723354]]\nLoss: \n 0.002225114357786853\n+---------EPOCH 2000---------+\nInput: \n [[0 0 1]\n [0 1 1]\n [1 0 1]\n [0 1 0]\n [1 0 0]\n [1 1 1]\n [0 0 0]]\nActual Output: \n [[0], [1], [1], [1], [1], [0], [0]]\nPredicted Output: \n [[0.00670316]\n [0.97114475]\n [0.97264075]\n [0.97702934]\n [0.97470356]\n [0.02079809]\n [0.06065357]]\nLoss: \n 0.0009864376537105839\n+---------EPOCH 3000---------+\nInput: \n [[0 0 1]\n [0 1 1]\n [1 0 1]\n [0 1 0]\n [1 0 0]\n [1 1 1]\n [0 0 0]]\nActual Output: \n [[0], [1], [1], [1], [1], [0], [0]]\nPredicted Output: \n [[0.0049844 ]\n [0.97707015]\n [0.97809274]\n [0.98117622]\n [0.97973191]\n [0.01508532]\n [0.04954732]]\nLoss: \n 0.0006397406464560571\n+---------EPOCH 4000---------+\nInput: \n [[0 0 1]\n [0 1 1]\n [1 0 1]\n [0 1 0]\n [1 0 0]\n [1 1 1]\n [0 0 0]]\nActual Output: \n [[0], [1], [1], [1], [1], [0], [0]]\nPredicted Output: \n [[0.00407884]\n [0.98040954]\n [0.98119761]\n [0.98363629]\n [0.98257555]\n [0.012136  ]\n [0.04299219]]\nLoss: \n 0.0004744209103533622\n+---------EPOCH 5000---------+\nInput: \n [[0 0 1]\n [0 1 1]\n [1 0 1]\n [0 1 0]\n [1 0 0]\n [1 1 1]\n [0 0 0]]\nActual Output: \n [[0], [1], [1], [1], [1], [0], [0]]\nPredicted Output: \n [[0.00350518]\n [0.98262388]\n [0.98327079]\n [0.9853164 ]\n [0.9844709 ]\n [0.01029628]\n [0.03852656]]\nLoss: \n 0.0003773075050323076\n+---------EPOCH 6000---------+\nInput: \n [[0 0 1]\n [0 1 1]\n [1 0 1]\n [0 1 0]\n [1 0 0]\n [1 1 1]\n [0 0 0]]\nActual Output: \n [[0], [1], [1], [1], [1], [0], [0]]\nPredicted Output: \n [[0.0031032 ]\n [0.9842297 ]\n [0.9847818 ]\n [0.98655932]\n [0.9858521 ]\n [0.00902305]\n [0.03522847]]\nLoss: \n 0.00031331445428842516\n+---------EPOCH 7000---------+\nInput: \n [[0 0 1]\n [0 1 1]\n [1 0 1]\n [0 1 0]\n [1 0 0]\n [1 1 1]\n [0 0 0]]\nActual Output: \n [[0], [1], [1], [1], [1], [0], [0]]\nPredicted Output: \n [[0.00280291]\n [0.98546266]\n [0.98594641]\n [0.98752773]\n [0.98691714]\n [0.00808162]\n [0.03266203]]\nLoss: \n 0.00026793340854784165\n+---------EPOCH 8000---------+\nInput: \n [[0 0 1]\n [0 1 1]\n [1 0 1]\n [0 1 0]\n [1 0 0]\n [1 1 1]\n [0 0 0]]\nActual Output: \n [[0], [1], [1], [1], [1], [0], [0]]\nPredicted Output: \n [[0.00256838]\n [0.98644767]\n [0.98687965]\n [0.98831027]\n [0.98777121]\n [0.00735282]\n [0.03059033]]\nLoss: \n 0.00023406156513425288\n+---------EPOCH 9000---------+\nInput: \n [[0 0 1]\n [0 1 1]\n [1 0 1]\n [0 1 0]\n [1 0 0]\n [1 1 1]\n [0 0 0]]\nActual Output: \n [[0], [1], [1], [1], [1], [0], [0]]\nPredicted Output: \n [[0.00237914]\n [0.98725795]\n [0.98764927]\n [0.98895998]\n [0.98847611]\n [0.00676925]\n [0.02887182]]\nLoss: \n 0.0002078067875944873\n+---------EPOCH 10000---------+\nInput: \n [[0 0 1]\n [0 1 1]\n [1 0 1]\n [0 1 0]\n [1 0 0]\n [1 1 1]\n [0 0 0]]\nActual Output: \n [[0], [1], [1], [1], [1], [0], [0]]\nPredicted Output: \n [[0.00222258]\n [0.98793966]\n [0.98829812]\n [0.98951079]\n [0.98907088]\n [0.00628969]\n [0.027416  ]]\nLoss: \n 0.00018685604080262677\n"
    }
   ],
   "source": [
    "# Train my 'net\n",
    "nn = NeuralNetwork()\n",
    "\n",
    "# Number of Epochs / Iterations\n",
    "for i in range(10000):\n",
    "    if (i+1 in [1,2,3,4,5]) or ((i+1) % 1000 ==0):\n",
    "        print('+' + '---' * 3 + f'EPOCH {i+1}' + '---'*3 + '+')\n",
    "        print('Input: \\n', X)\n",
    "        print('Actual Output: \\n', y)\n",
    "        print('Predicted Output: \\n', str(nn.feed_forward(X)))\n",
    "        print(\"Loss: \\n\", str(np.mean(np.square(y - nn.feed_forward(X)))))\n",
    "    nn.train(X,y)"
   ]
  },
  {
   "cell_type": "markdown",
   "metadata": {
    "colab_type": "text",
    "id": "8b-r70o8p2Dm"
   },
   "source": [
    "## Try building/training a more complex MLP on a bigger dataset.\n",
    "\n",
    "Use the [MNIST dataset](http://yann.lecun.com/exdb/mnist/) to build the cannonical handwriting digit recognizer and see what kind of accuracy you can achieve. \n",
    "\n",
    "If you need inspiration, the internet is chalk-full of tutorials, but I want you to see how far you can get on your own first. I've linked to the original MNIST dataset above but it will probably be easier to download data through a neural network library. If you reference outside resources make sure you understand every line of code that you're using from other sources, and share with your fellow students helpful resources that you find.\n",
    "\n",
    "\n",
    "### Parts\n",
    "1. Gathering & Transforming the Data\n",
    "2. Making MNIST a Binary Problem\n",
    "3. Estimating your Neural Network (the part you focus on)"
   ]
  },
  {
   "cell_type": "markdown",
   "metadata": {},
   "source": [
    "### Gathering the Data \n",
    "\n",
    "`keras` has a handy method to pull the mnist dataset for you. You'll notice that each observation is a 28x28 arrary which represents an image. Although most Neural Network frameworks can handle higher dimensional data, that is more overhead than necessary for us. We need to flatten the image to one long row which will be 784 values (28X28). Basically, you will be appending each row to one another to make on really long row. "
   ]
  },
  {
   "cell_type": "code",
   "execution_count": 39,
   "metadata": {},
   "outputs": [],
   "source": [
    "import numpy as np\n",
    "from tensorflow.keras.datasets import mnist\n",
    "from tensorflow.keras.utils import to_categorical"
   ]
  },
  {
   "cell_type": "code",
   "execution_count": 2,
   "metadata": {},
   "outputs": [],
   "source": [
    "# input image dimensions\n",
    "img_rows, img_cols = 28, 28"
   ]
  },
  {
   "cell_type": "code",
   "execution_count": 31,
   "metadata": {},
   "outputs": [],
   "source": [
    "# the data, split between train and test sets\n",
    "(x_train, y_train), (x_test, y_test) = mnist.load_data()"
   ]
  },
  {
   "cell_type": "code",
   "execution_count": 32,
   "metadata": {},
   "outputs": [],
   "source": [
    "x_train = x_train.reshape(x_train.shape[0], img_rows * img_cols)\n",
    "x_test = x_test.reshape(x_test.shape[0], img_rows * img_cols)\n",
    "\n",
    "# Normalize Our Data\n",
    "x_train = x_train / 255\n",
    "x_test = x_test / 255"
   ]
  },
  {
   "cell_type": "code",
   "execution_count": 16,
   "metadata": {},
   "outputs": [
    {
     "data": {
      "text/plain": [
       "(60000, 784)"
      ]
     },
     "execution_count": 16,
     "metadata": {},
     "output_type": "execute_result"
    }
   ],
   "source": [
    "# Now the data should be in a format you're more familiar with\n",
    "x_train.shape"
   ]
  },
  {
   "cell_type": "markdown",
   "metadata": {},
   "source": [
    "### Making MNIST a Binary Problem \n",
    "MNIST is multiclass classification problem; however we haven't covered all the necessary techniques to handle this yet. You would need to one-hot encode the target, use a different loss metric, and use softmax activations for the last layer. This is all stuff we'll cover later this week, but let us simply the problem for now: Zero or all else."
   ]
  },
  {
   "cell_type": "code",
   "execution_count": 33,
   "metadata": {},
   "outputs": [],
   "source": [
    "import numpy as np\n",
    "\n",
    "y_temp = np.zeros(y_train.shape)\n",
    "y_temp[np.where(y_train == 0.0)[0]] = 1\n",
    "y_train = y_temp\n",
    "\n",
    "y_temp = np.zeros(y_test.shape)\n",
    "y_temp[np.where(y_test == 0.0)[0]] = 1\n",
    "y_test = y_temp"
   ]
  },
  {
   "cell_type": "code",
   "execution_count": 40,
   "metadata": {},
   "outputs": [
    {
     "data": {
      "text/plain": [
       "array([0., 1., 0., ..., 0., 0., 0.])"
      ]
     },
     "execution_count": 40,
     "metadata": {},
     "output_type": "execute_result"
    }
   ],
   "source": [
    "# A Nice Binary target for ya to work with\n",
    "y_train"
   ]
  },
  {
   "cell_type": "markdown",
   "metadata": {},
   "source": [
    "### Estimating Your `net"
   ]
  },
  {
   "cell_type": "code",
   "execution_count": null,
   "metadata": {
    "colab": {},
    "colab_type": "code",
    "id": "5MOPtYdk1HgA"
   },
   "outputs": [],
   "source": [
    "##### Your Code Here #####\n",
    "nn = NeuralNetwork()\n",
    "\n",
    "# Number of Epochs / Iterations\n",
    "for i in range(3):\n",
    "    if (i+1 in [1,2,3,4,5]) or ((i+1) % 1000 ==0):\n",
    "        print('+' + '---' * 3 + f'EPOCH {i+1}' + '---'*3 + '+')\n",
    "        print('Input: \\n', x_train)\n",
    "        print('Actual Output: \\n', y_train)\n",
    "        print('Predicted Output: \\n', str(nn.feed_forward(x_train)))\n",
    "        print(\"Loss: \\n\", str(np.mean(np.square(y_train - nn.feed_forward(x_train)))))\n",
    "    nn.train(x_train,y_train)\n"
   ]
  },
  {
   "cell_type": "markdown",
   "metadata": {
    "colab_type": "text",
    "id": "FwlRJSfBlCvy"
   },
   "source": [
    "## Stretch Goals: \n",
    "\n",
    "- Make MNIST a multiclass problem using cross entropy & soft-max\n",
    "- Implement Cross Validation model evaluation on your MNIST implementation \n",
    "- Research different [Gradient Descent Based Optimizers](https://keras.io/optimizers/)\n",
    " - [Siraj Raval the evolution of gradient descent](https://www.youtube.com/watch?v=nhqo0u1a6fw)\n",
    "- Build a housing price estimation model using a neural network. How does its accuracy compare with the regression models that we fit earlier on in class?"
   ]
  }
 ],
 "metadata": {
  "colab": {
   "name": "LS_DS_432_Backprop_Assignment.ipynb",
   "provenance": [],
   "version": "0.3.2"
  },
  "kernelspec": {
   "display_name": "Python 3",
   "language": "python",
   "name": "python3"
  },
  "language_info": {
   "codemirror_mode": {
    "name": "ipython",
    "version": 3
   },
   "file_extension": ".py",
   "mimetype": "text/x-python",
   "name": "python",
   "nbconvert_exporter": "python",
   "pygments_lexer": "ipython3",
   "version": "3.7.5"
  }
 },
 "nbformat": 4,
 "nbformat_minor": 2
}